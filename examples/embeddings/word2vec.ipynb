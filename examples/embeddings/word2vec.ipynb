{
 "cells": [
  {
   "cell_type": "code",
   "execution_count": 1,
   "metadata": {
    "scrolled": true
   },
   "outputs": [],
   "source": [
    "#!conda install pytorch torchvision torchaudio cudatoolkit=11.1 -c pytorch -c nvidia -y\n",
    "#!pip install --upgrade --force-reinstall allennlp==2.5.0\n",
    "#!git clone https://github.com/mhagiwara/realworldnlp.git\n",
    "#%cd realworldnlp"
   ]
  },
  {
   "cell_type": "code",
   "execution_count": 2,
   "metadata": {},
   "outputs": [
    {
     "name": "stdout",
     "output_type": "stream",
     "text": [
      "/home/jupyter/realworldnlp\n"
     ]
    }
   ],
   "source": [
    "#!allennlp test-install\n",
    "#%cd /home/jupyter/realworldnlp/examples/embeddings/realworldnlp/\n",
    "%cd /home/jupyter/realworldnlp"
   ]
  },
  {
   "cell_type": "code",
   "execution_count": 3,
   "metadata": {},
   "outputs": [],
   "source": [
    "from collections import Counter\n",
    "\n",
    "import torch\n",
    "import torch.optim as optim\n",
    "from allennlp.data.data_loaders import SimpleDataLoader\n",
    "from allennlp.data.vocabulary import Vocabulary\n",
    "from allennlp.models import Model\n",
    "from allennlp.modules.token_embedders import Embedding\n",
    "from allennlp.training import GradientDescentTrainer\n",
    "from torch.nn import CosineSimilarity\n",
    "from torch.nn import functional"
   ]
  },
  {
   "cell_type": "code",
   "execution_count": 4,
   "metadata": {},
   "outputs": [],
   "source": [
    "from examples.embeddings.word2vec import SkipGramReader"
   ]
  },
  {
   "cell_type": "code",
   "execution_count": 5,
   "metadata": {},
   "outputs": [],
   "source": [
    "EMBEDDING_DIM = 256\n",
    "BATCH_SIZE = 256"
   ]
  },
  {
   "cell_type": "code",
   "execution_count": 6,
   "metadata": {},
   "outputs": [],
   "source": [
    "class SkipGramModel(Model):\n",
    "    def __init__(self, vocab, embedding_in, cuda_device=-1):\n",
    "        super().__init__(vocab)\n",
    "        self.embedding_in = embedding_in\n",
    "        self.linear = torch.nn.Linear(\n",
    "            in_features=EMBEDDING_DIM,\n",
    "            out_features=vocab.get_vocab_size('token_out'),\n",
    "            bias=False)\n",
    "        if cuda_device > -1:\n",
    "            self.linear = self.linear.to(cuda_device)\n",
    "            self.embedding_in = self.embedding_in.to(cuda_device)\n",
    "\n",
    "    def forward(self, token_in, token_out):\n",
    "        embedded_in = self.embedding_in(token_in)\n",
    "        logits = self.linear(embedded_in)\n",
    "        loss = functional.cross_entropy(logits, token_out)\n",
    "\n",
    "        return {'loss': loss}"
   ]
  },
  {
   "cell_type": "code",
   "execution_count": 7,
   "metadata": {},
   "outputs": [],
   "source": [
    "def get_related(token: str, embedding: Model, vocab: Vocabulary, num_synonyms: int = 10):\n",
    "    \"\"\"Given a token, return a list of top N most similar words to the token.\"\"\"\n",
    "    token_id = vocab.get_token_index(token, 'token_in')\n",
    "    token_vec = embedding.weight[token_id]\n",
    "    cosine = CosineSimilarity(dim=0)\n",
    "    sims = Counter()\n",
    "\n",
    "    for index, token in vocab.get_index_to_token_vocabulary('token_in').items():\n",
    "        sim = cosine(token_vec, embedding.weight[index]).item()\n",
    "        sims[token] = sim\n",
    "\n",
    "    return sims.most_common(num_synonyms)"
   ]
  },
  {
   "cell_type": "code",
   "execution_count": 8,
   "metadata": {},
   "outputs": [],
   "source": [
    "reader = SkipGramReader()\n",
    "text8 = reader.read('https://realworldnlpbook.s3.amazonaws.com/data/text8/text8')"
   ]
  },
  {
   "cell_type": "code",
   "execution_count": 9,
   "metadata": {},
   "outputs": [
    {
     "name": "stderr",
     "output_type": "stream",
     "text": [
      "Your label namespace was 'token_in'. We recommend you use a namespace ending with 'labels' or 'tags', so we don't add UNK and PAD tokens by default to your vocabulary.  See documentation for `non_padded_namespaces` parameter in Vocabulary.\n",
      "Your label namespace was 'token_out'. We recommend you use a namespace ending with 'labels' or 'tags', so we don't add UNK and PAD tokens by default to your vocabulary.  See documentation for `non_padded_namespaces` parameter in Vocabulary.\n"
     ]
    },
    {
     "name": "stdout",
     "output_type": "stream",
     "text": [
      "9999970\n"
     ]
    }
   ],
   "source": [
    "text8 = list(text8)\n",
    "print(len(text8))\n",
    "text8 = text8[:1000000]"
   ]
  },
  {
   "cell_type": "code",
   "execution_count": 10,
   "metadata": {},
   "outputs": [
    {
     "data": {
      "application/vnd.jupyter.widget-view+json": {
       "model_id": "b807904fd9f54a49b0e13d14734069a9",
       "version_major": 2,
       "version_minor": 0
      },
      "text/plain": [
       "building vocab:   0%|          | 0/1000000 [00:00<?, ?it/s]"
      ]
     },
     "metadata": {},
     "output_type": "display_data"
    }
   ],
   "source": [
    "vocab = Vocabulary.from_instances(\n",
    "    text8, min_count={'token_in': 5, 'token_out': 5})"
   ]
  },
  {
   "cell_type": "code",
   "execution_count": 11,
   "metadata": {},
   "outputs": [],
   "source": [
    "data_loader = SimpleDataLoader(text8, batch_size=BATCH_SIZE)\n",
    "data_loader.index_with(vocab)"
   ]
  },
  {
   "cell_type": "code",
   "execution_count": 12,
   "metadata": {},
   "outputs": [],
   "source": [
    "embedding_in = Embedding(num_embeddings=vocab.get_vocab_size('token_in'),\n",
    "                         embedding_dim=EMBEDDING_DIM)"
   ]
  },
  {
   "cell_type": "code",
   "execution_count": 13,
   "metadata": {},
   "outputs": [],
   "source": [
    "model = SkipGramModel(vocab=vocab,\n",
    "                      embedding_in=embedding_in, \n",
    "                      cuda_device=0)"
   ]
  },
  {
   "cell_type": "code",
   "execution_count": 14,
   "metadata": {},
   "outputs": [],
   "source": [
    "optimizer = optim.Adam(model.parameters())"
   ]
  },
  {
   "cell_type": "code",
   "execution_count": 15,
   "metadata": {},
   "outputs": [],
   "source": [
    "trainer = GradientDescentTrainer(\n",
    "    model=model,\n",
    "    optimizer=optimizer,\n",
    "    data_loader=data_loader,\n",
    "    num_epochs=5,\n",
    "    cuda_device=0)"
   ]
  },
  {
   "cell_type": "code",
   "execution_count": 16,
   "metadata": {},
   "outputs": [
    {
     "data": {
      "application/vnd.jupyter.widget-view+json": {
       "model_id": "ec5ff670e65d47809118734295ca6726",
       "version_major": 2,
       "version_minor": 0
      },
      "text/plain": [
       "  0%|          | 0/3907 [00:00<?, ?it/s]"
      ]
     },
     "metadata": {},
     "output_type": "display_data"
    },
    {
     "data": {
      "application/vnd.jupyter.widget-view+json": {
       "model_id": "0837fc95f2674697a7ad8c39aec2b406",
       "version_major": 2,
       "version_minor": 0
      },
      "text/plain": [
       "  0%|          | 0/3907 [00:00<?, ?it/s]"
      ]
     },
     "metadata": {},
     "output_type": "display_data"
    },
    {
     "data": {
      "application/vnd.jupyter.widget-view+json": {
       "model_id": "609bce583a424f89b145f40463c369be",
       "version_major": 2,
       "version_minor": 0
      },
      "text/plain": [
       "  0%|          | 0/3907 [00:00<?, ?it/s]"
      ]
     },
     "metadata": {},
     "output_type": "display_data"
    },
    {
     "data": {
      "application/vnd.jupyter.widget-view+json": {
       "model_id": "d834e7f86c0f458c87ca27b61b805e02",
       "version_major": 2,
       "version_minor": 0
      },
      "text/plain": [
       "  0%|          | 0/3907 [00:00<?, ?it/s]"
      ]
     },
     "metadata": {},
     "output_type": "display_data"
    },
    {
     "data": {
      "application/vnd.jupyter.widget-view+json": {
       "model_id": "fb2115b8f88f456f99880a4bc72acfa7",
       "version_major": 2,
       "version_minor": 0
      },
      "text/plain": [
       "  0%|          | 0/3907 [00:00<?, ?it/s]"
      ]
     },
     "metadata": {},
     "output_type": "display_data"
    },
    {
     "data": {
      "text/plain": [
       "{'best_epoch': 4,\n",
       " 'peak_worker_0_memory_MB': 5590.9921875,\n",
       " 'peak_gpu_0_memory_MB': 144.255859375,\n",
       " 'training_duration': '0:01:23.911339',\n",
       " 'epoch': 4,\n",
       " 'training_loss': 6.7073599027189905,\n",
       " 'training_worker_0_memory_MB': 5590.9921875,\n",
       " 'training_gpu_0_memory_MB': 144.255859375}"
      ]
     },
     "execution_count": 16,
     "metadata": {},
     "output_type": "execute_result"
    }
   ],
   "source": [
    "trainer.train()"
   ]
  },
  {
   "cell_type": "code",
   "execution_count": 17,
   "metadata": {},
   "outputs": [
    {
     "name": "stdout",
     "output_type": "stream",
     "text": [
      "[('one', 1.0), ('six', 0.647900402545929), ('nine', 0.632452130317688), ('seven', 0.6288212537765503), ('eight', 0.5990073680877686), ('ca', 0.5576686859130859), ('five', 0.545340359210968), ('four', 0.5395110249519348), ('st', 0.5186635851860046), ('province', 0.5177478194236755)]\n"
     ]
    }
   ],
   "source": [
    "print(get_related('one', embedding_in, vocab))"
   ]
  },
  {
   "cell_type": "code",
   "execution_count": 18,
   "metadata": {},
   "outputs": [
    {
     "name": "stdout",
     "output_type": "stream",
     "text": [
      "[('december', 1.0), ('freeman', 0.8162427544593811), ('wedding', 0.8129968643188477), ('april', 0.8026291728019714), ('july', 0.7979958653450012), ('banquet', 0.7911071181297302), ('nebraska', 0.7864280939102173), ('sunnybrook', 0.7830498218536377), ('montana', 0.7805073261260986), ('rebecca', 0.775092363357544)]\n"
     ]
    }
   ],
   "source": [
    "print(get_related('december', embedding_in, vocab))"
   ]
  },
  {
   "cell_type": "code",
   "execution_count": 19,
   "metadata": {},
   "outputs": [
    {
     "name": "stdout",
     "output_type": "stream",
     "text": [
      "tensor([[0.8970, 0.5553, 0.3410],\n",
      "        [0.9929, 0.1565, 0.5881],\n",
      "        [0.8995, 0.7901, 0.9748],\n",
      "        [0.4806, 0.7049, 0.1563],\n",
      "        [0.7419, 0.1682, 0.0752]], device='cuda:0')\n"
     ]
    }
   ],
   "source": [
    "import torch\n",
    "x = torch.rand(5, 3).to(\"cuda\")\n",
    "print(x)"
   ]
  },
  {
   "cell_type": "code",
   "execution_count": null,
   "metadata": {},
   "outputs": [],
   "source": []
  }
 ],
 "metadata": {
  "environment": {
   "name": "common-cu110.m80",
   "type": "gcloud",
   "uri": "gcr.io/deeplearning-platform-release/base-cu110:m80"
  },
  "kernelspec": {
   "display_name": "Python [conda env:root] *",
   "language": "python",
   "name": "conda-root-py"
  },
  "language_info": {
   "codemirror_mode": {
    "name": "ipython",
    "version": 3
   },
   "file_extension": ".py",
   "mimetype": "text/x-python",
   "name": "python",
   "nbconvert_exporter": "python",
   "pygments_lexer": "ipython3",
   "version": "3.7.10"
  }
 },
 "nbformat": 4,
 "nbformat_minor": 4
}
