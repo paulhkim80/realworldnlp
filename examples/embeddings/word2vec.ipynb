{
 "cells": [
  {
   "cell_type": "code",
   "execution_count": 1,
   "metadata": {
    "scrolled": true
   },
   "outputs": [],
   "source": [
    "#!conda install pytorch torchvision torchaudio cudatoolkit=11.1 -c pytorch -c nvidia -y\n",
    "#!pip install --upgrade --force-reinstall allennlp==2.5.0\n",
    "#!git clone https://github.com/mhagiwara/realworldnlp.git\n",
    "#%cd realworldnlp"
   ]
  },
  {
   "cell_type": "code",
   "execution_count": 2,
   "metadata": {},
   "outputs": [
    {
     "name": "stdout",
     "output_type": "stream",
     "text": [
      "/home/jupyter/realworldnlp\n"
     ]
    }
   ],
   "source": [
    "#!allennlp test-install\n",
    "#%cd /home/jupyter/realworldnlp/examples/embeddings/realworldnlp/\n",
    "%cd /home/jupyter/realworldnlp"
   ]
  },
  {
   "cell_type": "code",
   "execution_count": 3,
   "metadata": {},
   "outputs": [],
   "source": [
    "from collections import Counter\n",
    "\n",
    "import torch\n",
    "import torch.optim as optim\n",
    "from allennlp.data.data_loaders import SimpleDataLoader\n",
    "from allennlp.data.vocabulary import Vocabulary\n",
    "from allennlp.models import Model\n",
    "from allennlp.modules.token_embedders import Embedding\n",
    "from allennlp.training import GradientDescentTrainer\n",
    "from torch.nn import CosineSimilarity\n",
    "from torch.nn import functional"
   ]
  },
  {
   "cell_type": "code",
   "execution_count": 4,
   "metadata": {},
   "outputs": [],
   "source": [
    "from examples.embeddings.word2vec import SkipGramReader"
   ]
  },
  {
   "cell_type": "code",
   "execution_count": 5,
   "metadata": {},
   "outputs": [],
   "source": [
    "EMBEDDING_DIM = 256\n",
    "BATCH_SIZE = 256"
   ]
  },
  {
   "cell_type": "code",
   "execution_count": 6,
   "metadata": {},
   "outputs": [],
   "source": [
    "class SkipGramModel(Model):\n",
    "    def __init__(self, vocab, embedding_in, cuda_device=-1):\n",
    "        super().__init__(vocab)\n",
    "        self.embedding_in = embedding_in\n",
    "        self.linear = torch.nn.Linear(\n",
    "            in_features=EMBEDDING_DIM,\n",
    "            out_features=vocab.get_vocab_size('token_out'),\n",
    "            bias=False)\n",
    "        if cuda_device > -1:\n",
    "            self.linear = self.linear.to(cuda_device)\n",
    "            self.embedding_in = self.embedding_in.to(cuda_device)\n",
    "\n",
    "    def forward(self, token_in, token_out):\n",
    "        embedded_in = self.embedding_in(token_in)\n",
    "        logits = self.linear(embedded_in)\n",
    "        loss = functional.cross_entropy(logits, token_out)\n",
    "\n",
    "        return {'loss': loss}"
   ]
  },
  {
   "cell_type": "code",
   "execution_count": 7,
   "metadata": {},
   "outputs": [],
   "source": [
    "def get_related(token: str, embedding: Model, vocab: Vocabulary, num_synonyms: int = 10):\n",
    "    \"\"\"Given a token, return a list of top N most similar words to the token.\"\"\"\n",
    "    token_id = vocab.get_token_index(token, 'token_in')\n",
    "    token_vec = embedding.weight[token_id]\n",
    "    cosine = CosineSimilarity(dim=0)\n",
    "    sims = Counter()\n",
    "\n",
    "    for index, token in vocab.get_index_to_token_vocabulary('token_in').items():\n",
    "        sim = cosine(token_vec, embedding.weight[index]).item()\n",
    "        sims[token] = sim\n",
    "\n",
    "    return sims.most_common(num_synonyms)"
   ]
  },
  {
   "cell_type": "code",
   "execution_count": 8,
   "metadata": {},
   "outputs": [],
   "source": [
    "reader = SkipGramReader()\n",
    "text8 = reader.read('https://realworldnlpbook.s3.amazonaws.com/data/text8/text8')"
   ]
  },
  {
   "cell_type": "code",
   "execution_count": 9,
   "metadata": {},
   "outputs": [
    {
     "name": "stderr",
     "output_type": "stream",
     "text": [
      "Your label namespace was 'token_in'. We recommend you use a namespace ending with 'labels' or 'tags', so we don't add UNK and PAD tokens by default to your vocabulary.  See documentation for `non_padded_namespaces` parameter in Vocabulary.\n",
      "Your label namespace was 'token_out'. We recommend you use a namespace ending with 'labels' or 'tags', so we don't add UNK and PAD tokens by default to your vocabulary.  See documentation for `non_padded_namespaces` parameter in Vocabulary.\n"
     ]
    },
    {
     "name": "stdout",
     "output_type": "stream",
     "text": [
      "9999970\n"
     ]
    }
   ],
   "source": [
    "text8 = list(text8)\n",
    "print(len(text8))\n",
    "text8 = text8[:1000000]"
   ]
  },
  {
   "cell_type": "code",
   "execution_count": 10,
   "metadata": {},
   "outputs": [
    {
     "data": {
      "application/vnd.jupyter.widget-view+json": {
       "model_id": "09810d26a2fd4795ad99098bfdaef2cc",
       "version_major": 2,
       "version_minor": 0
      },
      "text/plain": [
       "building vocab:   0%|          | 0/1000000 [00:00<?, ?it/s]"
      ]
     },
     "metadata": {},
     "output_type": "display_data"
    }
   ],
   "source": [
    "vocab = Vocabulary.from_instances(\n",
    "    text8, min_count={'token_in': 5, 'token_out': 5})"
   ]
  },
  {
   "cell_type": "code",
   "execution_count": 11,
   "metadata": {},
   "outputs": [],
   "source": [
    "data_loader = SimpleDataLoader(text8, batch_size=BATCH_SIZE)\n",
    "data_loader.index_with(vocab)"
   ]
  },
  {
   "cell_type": "code",
   "execution_count": 12,
   "metadata": {},
   "outputs": [],
   "source": [
    "embedding_in = Embedding(num_embeddings=vocab.get_vocab_size('token_in'),\n",
    "                         embedding_dim=EMBEDDING_DIM)"
   ]
  },
  {
   "cell_type": "code",
   "execution_count": 13,
   "metadata": {},
   "outputs": [],
   "source": [
    "model = SkipGramModel(vocab=vocab,\n",
    "                      embedding_in=embedding_in, \n",
    "                      cuda_device=0)"
   ]
  },
  {
   "cell_type": "code",
   "execution_count": 14,
   "metadata": {},
   "outputs": [],
   "source": [
    "optimizer = optim.Adam(model.parameters())"
   ]
  },
  {
   "cell_type": "code",
   "execution_count": 15,
   "metadata": {},
   "outputs": [],
   "source": [
    "trainer = GradientDescentTrainer(\n",
    "    model=model,\n",
    "    optimizer=optimizer,\n",
    "    data_loader=data_loader,\n",
    "    num_epochs=5,\n",
    "    cuda_device=0)"
   ]
  },
  {
   "cell_type": "code",
   "execution_count": 16,
   "metadata": {},
   "outputs": [
    {
     "data": {
      "application/vnd.jupyter.widget-view+json": {
       "model_id": "5fa01a04365544da83347f846c8d5bba",
       "version_major": 2,
       "version_minor": 0
      },
      "text/plain": [
       "  0%|          | 0/3907 [00:00<?, ?it/s]"
      ]
     },
     "metadata": {},
     "output_type": "display_data"
    },
    {
     "data": {
      "application/vnd.jupyter.widget-view+json": {
       "model_id": "0887d4a14f5445e189c720bb6b41462f",
       "version_major": 2,
       "version_minor": 0
      },
      "text/plain": [
       "  0%|          | 0/3907 [00:00<?, ?it/s]"
      ]
     },
     "metadata": {},
     "output_type": "display_data"
    },
    {
     "data": {
      "application/vnd.jupyter.widget-view+json": {
       "model_id": "ddd993e90af84ee5b7437e0cc15afe5d",
       "version_major": 2,
       "version_minor": 0
      },
      "text/plain": [
       "  0%|          | 0/3907 [00:00<?, ?it/s]"
      ]
     },
     "metadata": {},
     "output_type": "display_data"
    },
    {
     "data": {
      "application/vnd.jupyter.widget-view+json": {
       "model_id": "b1dc3845b63e430085ad15fcecd95a70",
       "version_major": 2,
       "version_minor": 0
      },
      "text/plain": [
       "  0%|          | 0/3907 [00:00<?, ?it/s]"
      ]
     },
     "metadata": {},
     "output_type": "display_data"
    },
    {
     "data": {
      "application/vnd.jupyter.widget-view+json": {
       "model_id": "d5b0e4534d1946c28f5e3446a8fca5bf",
       "version_major": 2,
       "version_minor": 0
      },
      "text/plain": [
       "  0%|          | 0/3907 [00:00<?, ?it/s]"
      ]
     },
     "metadata": {},
     "output_type": "display_data"
    },
    {
     "data": {
      "text/plain": [
       "{'best_epoch': 4,\n",
       " 'peak_worker_0_memory_MB': 5488.4921875,\n",
       " 'peak_gpu_0_memory_MB': 144.255859375,\n",
       " 'training_duration': '0:01:42.308696',\n",
       " 'epoch': 4,\n",
       " 'training_loss': 6.705820079346523,\n",
       " 'training_worker_0_memory_MB': 5488.4921875,\n",
       " 'training_gpu_0_memory_MB': 144.255859375}"
      ]
     },
     "execution_count": 16,
     "metadata": {},
     "output_type": "execute_result"
    }
   ],
   "source": [
    "trainer.train()"
   ]
  },
  {
   "cell_type": "code",
   "execution_count": 17,
   "metadata": {},
   "outputs": [
    {
     "name": "stdout",
     "output_type": "stream",
     "text": [
      "[('one', 1.0), ('six', 0.6437518000602722), ('nine', 0.6365323066711426), ('eight', 0.614064633846283), ('seven', 0.6109055876731873), ('ca', 0.5784156322479248), ('comics', 0.5500050187110901), ('april', 0.5439273118972778), ('march', 0.5300270915031433), ('january', 0.5293185114860535)]\n"
     ]
    }
   ],
   "source": [
    "print(get_related('one', embedding_in, vocab))"
   ]
  },
  {
   "cell_type": "code",
   "execution_count": 18,
   "metadata": {},
   "outputs": [
    {
     "name": "stdout",
     "output_type": "stream",
     "text": [
      "[('december', 1.0), ('april', 0.8296223282814026), ('montana', 0.8117048144340515), ('banquet', 0.8116891980171204), ('wedding', 0.8058186769485474), ('july', 0.7886661887168884), ('freeman', 0.7880728840827942), ('sunnybrook', 0.7825567722320557), ('august', 0.7818068265914917), ('rebecca', 0.7808966040611267)]\n"
     ]
    }
   ],
   "source": [
    "print(get_related('december', embedding_in, vocab))"
   ]
  },
  {
   "cell_type": "code",
   "execution_count": 19,
   "metadata": {},
   "outputs": [
    {
     "name": "stdout",
     "output_type": "stream",
     "text": [
      "tensor([[0.8970, 0.5553, 0.3410],\n",
      "        [0.9929, 0.1565, 0.5881],\n",
      "        [0.8995, 0.7901, 0.9748],\n",
      "        [0.4806, 0.7049, 0.1563],\n",
      "        [0.7419, 0.1682, 0.0752]], device='cuda:0')\n"
     ]
    }
   ],
   "source": [
    "import torch\n",
    "x = torch.rand(5, 3).to(\"cuda\")\n",
    "print(x)"
   ]
  },
  {
   "cell_type": "code",
   "execution_count": 20,
   "metadata": {},
   "outputs": [
    {
     "name": "stdout",
     "output_type": "stream",
     "text": [
      "Requirement already satisfied: allennlp==2.5.0 in /home/jupyter/.local/lib/python3.7/site-packages (2.5.0)\n",
      "Requirement already satisfied: scikit-learn in /home/jupyter/.local/lib/python3.7/site-packages (from allennlp==2.5.0) (1.0)\n",
      "Requirement already satisfied: torchvision<0.10.0,>=0.8.1 in /home/jupyter/.local/lib/python3.7/site-packages (from allennlp==2.5.0) (0.9.1)\n",
      "Requirement already satisfied: numpy in /home/jupyter/.local/lib/python3.7/site-packages (from allennlp==2.5.0) (1.21.2)\n",
      "Requirement already satisfied: tensorboardX>=1.2 in /home/jupyter/.local/lib/python3.7/site-packages (from allennlp==2.5.0) (2.4)\n",
      "Requirement already satisfied: google-cloud-storage<1.39.0,>=1.38.0 in /home/jupyter/.local/lib/python3.7/site-packages (from allennlp==2.5.0) (1.38.0)\n",
      "Requirement already satisfied: torch<1.9.0,>=1.6.0 in /home/jupyter/.local/lib/python3.7/site-packages (from allennlp==2.5.0) (1.8.1)\n",
      "Requirement already satisfied: checklist==0.0.11 in /home/jupyter/.local/lib/python3.7/site-packages (from allennlp==2.5.0) (0.0.11)\n",
      "Requirement already satisfied: tqdm>=4.19 in /home/jupyter/.local/lib/python3.7/site-packages (from allennlp==2.5.0) (4.62.3)\n",
      "Requirement already satisfied: transformers<4.7,>=4.1 in /home/jupyter/.local/lib/python3.7/site-packages (from allennlp==2.5.0) (4.6.1)\n",
      "Requirement already satisfied: jsonnet>=0.10.0 in /home/jupyter/.local/lib/python3.7/site-packages (from allennlp==2.5.0) (0.17.0)\n",
      "Requirement already satisfied: spacy<3.1,>=2.1.0 in /home/jupyter/.local/lib/python3.7/site-packages (from allennlp==2.5.0) (3.0.7)\n",
      "Requirement already satisfied: sentencepiece in /home/jupyter/.local/lib/python3.7/site-packages (from allennlp==2.5.0) (0.1.96)\n",
      "Requirement already satisfied: lmdb in /home/jupyter/.local/lib/python3.7/site-packages (from allennlp==2.5.0) (1.2.1)\n",
      "Requirement already satisfied: boto3<2.0,>=1.14 in /home/jupyter/.local/lib/python3.7/site-packages (from allennlp==2.5.0) (1.18.48)\n",
      "Requirement already satisfied: scipy in /home/jupyter/.local/lib/python3.7/site-packages (from allennlp==2.5.0) (1.7.1)\n",
      "Requirement already satisfied: filelock<3.1,>=3.0 in /home/jupyter/.local/lib/python3.7/site-packages (from allennlp==2.5.0) (3.0.12)\n",
      "Requirement already satisfied: termcolor==1.1.0 in /home/jupyter/.local/lib/python3.7/site-packages (from allennlp==2.5.0) (1.1.0)\n",
      "Requirement already satisfied: nltk in /home/jupyter/.local/lib/python3.7/site-packages (from allennlp==2.5.0) (3.6.3)\n",
      "Requirement already satisfied: more-itertools in /home/jupyter/.local/lib/python3.7/site-packages (from allennlp==2.5.0) (8.10.0)\n",
      "Requirement already satisfied: h5py in /home/jupyter/.local/lib/python3.7/site-packages (from allennlp==2.5.0) (3.4.0)\n",
      "Requirement already satisfied: wandb<0.11.0,>=0.10.0 in /home/jupyter/.local/lib/python3.7/site-packages (from allennlp==2.5.0) (0.10.33)\n",
      "Requirement already satisfied: huggingface-hub>=0.0.8 in /home/jupyter/.local/lib/python3.7/site-packages (from allennlp==2.5.0) (0.0.8)\n",
      "Requirement already satisfied: pytest in /home/jupyter/.local/lib/python3.7/site-packages (from allennlp==2.5.0) (6.2.5)\n",
      "Requirement already satisfied: requests>=2.18 in /home/jupyter/.local/lib/python3.7/site-packages (from allennlp==2.5.0) (2.26.0)\n",
      "Requirement already satisfied: overrides==3.1.0 in /home/jupyter/.local/lib/python3.7/site-packages (from allennlp==2.5.0) (3.1.0)\n",
      "Requirement already satisfied: dill>=0.3.1 in /home/jupyter/.local/lib/python3.7/site-packages (from checklist==0.0.11->allennlp==2.5.0) (0.3.4)\n",
      "Requirement already satisfied: patternfork-nosql in /home/jupyter/.local/lib/python3.7/site-packages (from checklist==0.0.11->allennlp==2.5.0) (3.6)\n",
      "Requirement already satisfied: ipywidgets>=7.5 in /home/jupyter/.local/lib/python3.7/site-packages (from checklist==0.0.11->allennlp==2.5.0) (7.6.5)\n",
      "Requirement already satisfied: iso-639 in /home/jupyter/.local/lib/python3.7/site-packages (from checklist==0.0.11->allennlp==2.5.0) (0.4.5)\n",
      "Requirement already satisfied: munch>=2.5 in /home/jupyter/.local/lib/python3.7/site-packages (from checklist==0.0.11->allennlp==2.5.0) (2.5.0)\n",
      "Requirement already satisfied: jupyter>=1.0 in /home/jupyter/.local/lib/python3.7/site-packages (from checklist==0.0.11->allennlp==2.5.0) (1.0.0)\n",
      "Requirement already satisfied: botocore<1.22.0,>=1.21.48 in /home/jupyter/.local/lib/python3.7/site-packages (from boto3<2.0,>=1.14->allennlp==2.5.0) (1.21.48)\n",
      "Requirement already satisfied: s3transfer<0.6.0,>=0.5.0 in /home/jupyter/.local/lib/python3.7/site-packages (from boto3<2.0,>=1.14->allennlp==2.5.0) (0.5.0)\n",
      "Requirement already satisfied: jmespath<1.0.0,>=0.7.1 in /home/jupyter/.local/lib/python3.7/site-packages (from boto3<2.0,>=1.14->allennlp==2.5.0) (0.10.0)\n",
      "Requirement already satisfied: urllib3<1.27,>=1.25.4 in /home/jupyter/.local/lib/python3.7/site-packages (from botocore<1.22.0,>=1.21.48->boto3<2.0,>=1.14->allennlp==2.5.0) (1.26.7)\n",
      "Requirement already satisfied: python-dateutil<3.0.0,>=2.1 in /home/jupyter/.local/lib/python3.7/site-packages (from botocore<1.22.0,>=1.21.48->boto3<2.0,>=1.14->allennlp==2.5.0) (2.8.2)\n",
      "Requirement already satisfied: google-auth<2.0dev,>=1.11.0 in /home/jupyter/.local/lib/python3.7/site-packages (from google-cloud-storage<1.39.0,>=1.38.0->allennlp==2.5.0) (1.35.0)\n",
      "Requirement already satisfied: google-resumable-media<2.0dev,>=1.2.0 in /home/jupyter/.local/lib/python3.7/site-packages (from google-cloud-storage<1.39.0,>=1.38.0->allennlp==2.5.0) (1.3.3)\n",
      "Requirement already satisfied: google-cloud-core<2.0dev,>=1.4.1 in /home/jupyter/.local/lib/python3.7/site-packages (from google-cloud-storage<1.39.0,>=1.38.0->allennlp==2.5.0) (1.7.2)\n",
      "Requirement already satisfied: cachetools<5.0,>=2.0.0 in /home/jupyter/.local/lib/python3.7/site-packages (from google-auth<2.0dev,>=1.11.0->google-cloud-storage<1.39.0,>=1.38.0->allennlp==2.5.0) (4.2.4)\n",
      "Requirement already satisfied: rsa<5,>=3.1.4 in /home/jupyter/.local/lib/python3.7/site-packages (from google-auth<2.0dev,>=1.11.0->google-cloud-storage<1.39.0,>=1.38.0->allennlp==2.5.0) (4.7.2)\n",
      "Requirement already satisfied: six>=1.9.0 in /home/jupyter/.local/lib/python3.7/site-packages (from google-auth<2.0dev,>=1.11.0->google-cloud-storage<1.39.0,>=1.38.0->allennlp==2.5.0) (1.16.0)\n",
      "Requirement already satisfied: pyasn1-modules>=0.2.1 in /home/jupyter/.local/lib/python3.7/site-packages (from google-auth<2.0dev,>=1.11.0->google-cloud-storage<1.39.0,>=1.38.0->allennlp==2.5.0) (0.2.8)\n",
      "Requirement already satisfied: setuptools>=40.3.0 in /opt/conda/lib/python3.7/site-packages (from google-auth<2.0dev,>=1.11.0->google-cloud-storage<1.39.0,>=1.38.0->allennlp==2.5.0) (58.0.4)\n",
      "Requirement already satisfied: google-api-core<2.0.0dev,>=1.21.0 in /home/jupyter/.local/lib/python3.7/site-packages (from google-cloud-core<2.0dev,>=1.4.1->google-cloud-storage<1.39.0,>=1.38.0->allennlp==2.5.0) (1.31.3)\n",
      "Requirement already satisfied: googleapis-common-protos<2.0dev,>=1.6.0 in /home/jupyter/.local/lib/python3.7/site-packages (from google-api-core<2.0.0dev,>=1.21.0->google-cloud-core<2.0dev,>=1.4.1->google-cloud-storage<1.39.0,>=1.38.0->allennlp==2.5.0) (1.53.0)\n",
      "Requirement already satisfied: protobuf<3.18.0,>=3.12.0 in /home/jupyter/.local/lib/python3.7/site-packages (from google-api-core<2.0.0dev,>=1.21.0->google-cloud-core<2.0dev,>=1.4.1->google-cloud-storage<1.39.0,>=1.38.0->allennlp==2.5.0) (3.17.3)\n",
      "Requirement already satisfied: packaging>=14.3 in /home/jupyter/.local/lib/python3.7/site-packages (from google-api-core<2.0.0dev,>=1.21.0->google-cloud-core<2.0dev,>=1.4.1->google-cloud-storage<1.39.0,>=1.38.0->allennlp==2.5.0) (21.0)\n",
      "Requirement already satisfied: pytz in /home/jupyter/.local/lib/python3.7/site-packages (from google-api-core<2.0.0dev,>=1.21.0->google-cloud-core<2.0dev,>=1.4.1->google-cloud-storage<1.39.0,>=1.38.0->allennlp==2.5.0) (2021.1)\n",
      "Requirement already satisfied: google-crc32c<2.0dev,>=1.0 in /home/jupyter/.local/lib/python3.7/site-packages (from google-resumable-media<2.0dev,>=1.2.0->google-cloud-storage<1.39.0,>=1.38.0->allennlp==2.5.0) (1.2.0)\n",
      "Requirement already satisfied: importlib-metadata in /home/jupyter/.local/lib/python3.7/site-packages (from huggingface-hub>=0.0.8->allennlp==2.5.0) (4.8.1)\n",
      "Requirement already satisfied: traitlets>=4.3.1 in /home/jupyter/.local/lib/python3.7/site-packages (from ipywidgets>=7.5->checklist==0.0.11->allennlp==2.5.0) (5.1.0)\n",
      "Requirement already satisfied: jupyterlab-widgets>=1.0.0 in /home/jupyter/.local/lib/python3.7/site-packages (from ipywidgets>=7.5->checklist==0.0.11->allennlp==2.5.0) (1.0.2)\n",
      "Requirement already satisfied: ipython>=4.0.0 in /home/jupyter/.local/lib/python3.7/site-packages (from ipywidgets>=7.5->checklist==0.0.11->allennlp==2.5.0) (7.28.0)\n",
      "Requirement already satisfied: widgetsnbextension~=3.5.0 in /home/jupyter/.local/lib/python3.7/site-packages (from ipywidgets>=7.5->checklist==0.0.11->allennlp==2.5.0) (3.5.1)\n",
      "Requirement already satisfied: ipython-genutils~=0.2.0 in /home/jupyter/.local/lib/python3.7/site-packages (from ipywidgets>=7.5->checklist==0.0.11->allennlp==2.5.0) (0.2.0)\n",
      "Requirement already satisfied: ipykernel>=4.5.1 in /home/jupyter/.local/lib/python3.7/site-packages (from ipywidgets>=7.5->checklist==0.0.11->allennlp==2.5.0) (6.4.1)\n",
      "Requirement already satisfied: nbformat>=4.2.0 in /home/jupyter/.local/lib/python3.7/site-packages (from ipywidgets>=7.5->checklist==0.0.11->allennlp==2.5.0) (5.1.3)\n",
      "Requirement already satisfied: matplotlib-inline<0.2.0,>=0.1.0 in /home/jupyter/.local/lib/python3.7/site-packages (from ipykernel>=4.5.1->ipywidgets>=7.5->checklist==0.0.11->allennlp==2.5.0) (0.1.3)\n",
      "Requirement already satisfied: tornado<7.0,>=4.2 in /home/jupyter/.local/lib/python3.7/site-packages (from ipykernel>=4.5.1->ipywidgets>=7.5->checklist==0.0.11->allennlp==2.5.0) (6.1)\n",
      "Requirement already satisfied: argcomplete>=1.12.3 in /home/jupyter/.local/lib/python3.7/site-packages (from ipykernel>=4.5.1->ipywidgets>=7.5->checklist==0.0.11->allennlp==2.5.0) (1.12.3)\n",
      "Requirement already satisfied: debugpy<2.0,>=1.0.0 in /home/jupyter/.local/lib/python3.7/site-packages (from ipykernel>=4.5.1->ipywidgets>=7.5->checklist==0.0.11->allennlp==2.5.0) (1.4.3)\n",
      "Requirement already satisfied: jupyter-client<8.0 in /home/jupyter/.local/lib/python3.7/site-packages (from ipykernel>=4.5.1->ipywidgets>=7.5->checklist==0.0.11->allennlp==2.5.0) (7.0.5)\n",
      "Requirement already satisfied: typing-extensions>=3.6.4 in /home/jupyter/.local/lib/python3.7/site-packages (from importlib-metadata->huggingface-hub>=0.0.8->allennlp==2.5.0) (3.10.0.2)\n",
      "Requirement already satisfied: zipp>=0.5 in /home/jupyter/.local/lib/python3.7/site-packages (from importlib-metadata->huggingface-hub>=0.0.8->allennlp==2.5.0) (3.6.0)\n",
      "Requirement already satisfied: prompt-toolkit!=3.0.0,!=3.0.1,<3.1.0,>=2.0.0 in /home/jupyter/.local/lib/python3.7/site-packages (from ipython>=4.0.0->ipywidgets>=7.5->checklist==0.0.11->allennlp==2.5.0) (3.0.20)\n",
      "Requirement already satisfied: decorator in /home/jupyter/.local/lib/python3.7/site-packages (from ipython>=4.0.0->ipywidgets>=7.5->checklist==0.0.11->allennlp==2.5.0) (5.1.0)\n",
      "Requirement already satisfied: jedi>=0.16 in /home/jupyter/.local/lib/python3.7/site-packages (from ipython>=4.0.0->ipywidgets>=7.5->checklist==0.0.11->allennlp==2.5.0) (0.18.0)\n",
      "Requirement already satisfied: pygments in /home/jupyter/.local/lib/python3.7/site-packages (from ipython>=4.0.0->ipywidgets>=7.5->checklist==0.0.11->allennlp==2.5.0) (2.10.0)\n",
      "Requirement already satisfied: pexpect>4.3 in /home/jupyter/.local/lib/python3.7/site-packages (from ipython>=4.0.0->ipywidgets>=7.5->checklist==0.0.11->allennlp==2.5.0) (4.8.0)\n",
      "Requirement already satisfied: backcall in /home/jupyter/.local/lib/python3.7/site-packages (from ipython>=4.0.0->ipywidgets>=7.5->checklist==0.0.11->allennlp==2.5.0) (0.2.0)\n",
      "Requirement already satisfied: pickleshare in /home/jupyter/.local/lib/python3.7/site-packages (from ipython>=4.0.0->ipywidgets>=7.5->checklist==0.0.11->allennlp==2.5.0) (0.7.5)\n",
      "Requirement already satisfied: parso<0.9.0,>=0.8.0 in /home/jupyter/.local/lib/python3.7/site-packages (from jedi>=0.16->ipython>=4.0.0->ipywidgets>=7.5->checklist==0.0.11->allennlp==2.5.0) (0.8.2)\n",
      "Requirement already satisfied: notebook in /home/jupyter/.local/lib/python3.7/site-packages (from jupyter>=1.0->checklist==0.0.11->allennlp==2.5.0) (6.4.4)\n",
      "Requirement already satisfied: jupyter-console in /home/jupyter/.local/lib/python3.7/site-packages (from jupyter>=1.0->checklist==0.0.11->allennlp==2.5.0) (6.4.0)\n",
      "Requirement already satisfied: nbconvert in /home/jupyter/.local/lib/python3.7/site-packages (from jupyter>=1.0->checklist==0.0.11->allennlp==2.5.0) (6.2.0)\n",
      "Requirement already satisfied: qtconsole in /home/jupyter/.local/lib/python3.7/site-packages (from jupyter>=1.0->checklist==0.0.11->allennlp==2.5.0) (5.1.1)\n",
      "Requirement already satisfied: nest-asyncio>=1.5 in /home/jupyter/.local/lib/python3.7/site-packages (from jupyter-client<8.0->ipykernel>=4.5.1->ipywidgets>=7.5->checklist==0.0.11->allennlp==2.5.0) (1.5.1)\n",
      "Requirement already satisfied: pyzmq>=13 in /home/jupyter/.local/lib/python3.7/site-packages (from jupyter-client<8.0->ipykernel>=4.5.1->ipywidgets>=7.5->checklist==0.0.11->allennlp==2.5.0) (22.3.0)\n",
      "Requirement already satisfied: entrypoints in /home/jupyter/.local/lib/python3.7/site-packages (from jupyter-client<8.0->ipykernel>=4.5.1->ipywidgets>=7.5->checklist==0.0.11->allennlp==2.5.0) (0.3)\n",
      "Requirement already satisfied: jupyter-core>=4.6.0 in /home/jupyter/.local/lib/python3.7/site-packages (from jupyter-client<8.0->ipykernel>=4.5.1->ipywidgets>=7.5->checklist==0.0.11->allennlp==2.5.0) (4.8.1)\n",
      "Requirement already satisfied: jsonschema!=2.5.0,>=2.4 in /home/jupyter/.local/lib/python3.7/site-packages (from nbformat>=4.2.0->ipywidgets>=7.5->checklist==0.0.11->allennlp==2.5.0) (4.0.1)\n",
      "Requirement already satisfied: pyrsistent!=0.17.0,!=0.17.1,!=0.17.2,>=0.14.0 in /home/jupyter/.local/lib/python3.7/site-packages (from jsonschema!=2.5.0,>=2.4->nbformat>=4.2.0->ipywidgets>=7.5->checklist==0.0.11->allennlp==2.5.0) (0.18.0)\n",
      "Requirement already satisfied: attrs>=17.4.0 in /home/jupyter/.local/lib/python3.7/site-packages (from jsonschema!=2.5.0,>=2.4->nbformat>=4.2.0->ipywidgets>=7.5->checklist==0.0.11->allennlp==2.5.0) (21.2.0)\n",
      "Requirement already satisfied: pyparsing>=2.0.2 in /home/jupyter/.local/lib/python3.7/site-packages (from packaging>=14.3->google-api-core<2.0.0dev,>=1.21.0->google-cloud-core<2.0dev,>=1.4.1->google-cloud-storage<1.39.0,>=1.38.0->allennlp==2.5.0) (2.4.7)\n",
      "Requirement already satisfied: ptyprocess>=0.5 in /home/jupyter/.local/lib/python3.7/site-packages (from pexpect>4.3->ipython>=4.0.0->ipywidgets>=7.5->checklist==0.0.11->allennlp==2.5.0) (0.7.0)\n",
      "Requirement already satisfied: wcwidth in /home/jupyter/.local/lib/python3.7/site-packages (from prompt-toolkit!=3.0.0,!=3.0.1,<3.1.0,>=2.0.0->ipython>=4.0.0->ipywidgets>=7.5->checklist==0.0.11->allennlp==2.5.0) (0.2.5)\n",
      "Requirement already satisfied: pyasn1<0.5.0,>=0.4.6 in /home/jupyter/.local/lib/python3.7/site-packages (from pyasn1-modules>=0.2.1->google-auth<2.0dev,>=1.11.0->google-cloud-storage<1.39.0,>=1.38.0->allennlp==2.5.0) (0.4.8)\n",
      "Requirement already satisfied: certifi>=2017.4.17 in /home/jupyter/.local/lib/python3.7/site-packages (from requests>=2.18->allennlp==2.5.0) (2021.5.30)\n",
      "Requirement already satisfied: charset-normalizer~=2.0.0 in /home/jupyter/.local/lib/python3.7/site-packages (from requests>=2.18->allennlp==2.5.0) (2.0.6)\n",
      "Requirement already satisfied: idna<4,>=2.5 in /home/jupyter/.local/lib/python3.7/site-packages (from requests>=2.18->allennlp==2.5.0) (3.2)\n",
      "Requirement already satisfied: pydantic!=1.8,!=1.8.1,<1.9.0,>=1.7.4 in /home/jupyter/.local/lib/python3.7/site-packages (from spacy<3.1,>=2.1.0->allennlp==2.5.0) (1.8.2)\n",
      "Requirement already satisfied: cymem<2.1.0,>=2.0.2 in /home/jupyter/.local/lib/python3.7/site-packages (from spacy<3.1,>=2.1.0->allennlp==2.5.0) (2.0.5)\n",
      "Requirement already satisfied: murmurhash<1.1.0,>=0.28.0 in /home/jupyter/.local/lib/python3.7/site-packages (from spacy<3.1,>=2.1.0->allennlp==2.5.0) (1.0.5)\n",
      "Requirement already satisfied: thinc<8.1.0,>=8.0.3 in /home/jupyter/.local/lib/python3.7/site-packages (from spacy<3.1,>=2.1.0->allennlp==2.5.0) (8.0.10)\n",
      "Requirement already satisfied: spacy-legacy<3.1.0,>=3.0.5 in /home/jupyter/.local/lib/python3.7/site-packages (from spacy<3.1,>=2.1.0->allennlp==2.5.0) (3.0.8)\n",
      "Requirement already satisfied: catalogue<2.1.0,>=2.0.4 in /home/jupyter/.local/lib/python3.7/site-packages (from spacy<3.1,>=2.1.0->allennlp==2.5.0) (2.0.6)\n",
      "Requirement already satisfied: srsly<3.0.0,>=2.4.1 in /home/jupyter/.local/lib/python3.7/site-packages (from spacy<3.1,>=2.1.0->allennlp==2.5.0) (2.4.1)\n",
      "Requirement already satisfied: blis<0.8.0,>=0.4.0 in /home/jupyter/.local/lib/python3.7/site-packages (from spacy<3.1,>=2.1.0->allennlp==2.5.0) (0.7.4)\n",
      "Requirement already satisfied: preshed<3.1.0,>=3.0.2 in /home/jupyter/.local/lib/python3.7/site-packages (from spacy<3.1,>=2.1.0->allennlp==2.5.0) (3.0.5)\n",
      "Requirement already satisfied: jinja2 in /home/jupyter/.local/lib/python3.7/site-packages (from spacy<3.1,>=2.1.0->allennlp==2.5.0) (3.0.1)\n",
      "Requirement already satisfied: typer<0.4.0,>=0.3.0 in /home/jupyter/.local/lib/python3.7/site-packages (from spacy<3.1,>=2.1.0->allennlp==2.5.0) (0.3.2)\n",
      "Requirement already satisfied: pathy>=0.3.5 in /home/jupyter/.local/lib/python3.7/site-packages (from spacy<3.1,>=2.1.0->allennlp==2.5.0) (0.6.0)\n",
      "Requirement already satisfied: wasabi<1.1.0,>=0.8.1 in /home/jupyter/.local/lib/python3.7/site-packages (from spacy<3.1,>=2.1.0->allennlp==2.5.0) (0.8.2)\n",
      "Requirement already satisfied: smart-open<6.0.0,>=5.0.0 in /home/jupyter/.local/lib/python3.7/site-packages (from pathy>=0.3.5->spacy<3.1,>=2.1.0->allennlp==2.5.0) (5.2.1)\n",
      "Requirement already satisfied: pillow>=4.1.1 in /home/jupyter/.local/lib/python3.7/site-packages (from torchvision<0.10.0,>=0.8.1->allennlp==2.5.0) (8.3.2)\n",
      "Requirement already satisfied: tokenizers<0.11,>=0.10.1 in /home/jupyter/.local/lib/python3.7/site-packages (from transformers<4.7,>=4.1->allennlp==2.5.0) (0.10.3)\n",
      "Requirement already satisfied: sacremoses in /home/jupyter/.local/lib/python3.7/site-packages (from transformers<4.7,>=4.1->allennlp==2.5.0) (0.0.46)\n",
      "Requirement already satisfied: regex!=2019.12.17 in /home/jupyter/.local/lib/python3.7/site-packages (from transformers<4.7,>=4.1->allennlp==2.5.0) (2021.9.24)\n",
      "Requirement already satisfied: click<7.2.0,>=7.1.1 in /home/jupyter/.local/lib/python3.7/site-packages (from typer<0.4.0,>=0.3.0->spacy<3.1,>=2.1.0->allennlp==2.5.0) (7.1.2)\n",
      "Requirement already satisfied: PyYAML in /home/jupyter/.local/lib/python3.7/site-packages (from wandb<0.11.0,>=0.10.0->allennlp==2.5.0) (5.4.1)\n",
      "Requirement already satisfied: psutil>=5.0.0 in /home/jupyter/.local/lib/python3.7/site-packages (from wandb<0.11.0,>=0.10.0->allennlp==2.5.0) (5.8.0)\n",
      "Requirement already satisfied: configparser>=3.8.1 in /home/jupyter/.local/lib/python3.7/site-packages (from wandb<0.11.0,>=0.10.0->allennlp==2.5.0) (5.0.2)\n",
      "Requirement already satisfied: docker-pycreds>=0.4.0 in /home/jupyter/.local/lib/python3.7/site-packages (from wandb<0.11.0,>=0.10.0->allennlp==2.5.0) (0.4.0)\n",
      "Requirement already satisfied: sentry-sdk>=0.4.0 in /home/jupyter/.local/lib/python3.7/site-packages (from wandb<0.11.0,>=0.10.0->allennlp==2.5.0) (1.4.1)\n",
      "Requirement already satisfied: promise<3,>=2.0 in /home/jupyter/.local/lib/python3.7/site-packages (from wandb<0.11.0,>=0.10.0->allennlp==2.5.0) (2.3)\n",
      "Requirement already satisfied: shortuuid>=0.5.0 in /home/jupyter/.local/lib/python3.7/site-packages (from wandb<0.11.0,>=0.10.0->allennlp==2.5.0) (1.0.1)\n",
      "Requirement already satisfied: pathtools in /home/jupyter/.local/lib/python3.7/site-packages (from wandb<0.11.0,>=0.10.0->allennlp==2.5.0) (0.1.2)\n",
      "Requirement already satisfied: GitPython>=1.0.0 in /home/jupyter/.local/lib/python3.7/site-packages (from wandb<0.11.0,>=0.10.0->allennlp==2.5.0) (3.1.24)\n",
      "Requirement already satisfied: subprocess32>=3.5.3 in /home/jupyter/.local/lib/python3.7/site-packages (from wandb<0.11.0,>=0.10.0->allennlp==2.5.0) (3.5.4)\n",
      "Requirement already satisfied: gitdb<5,>=4.0.1 in /home/jupyter/.local/lib/python3.7/site-packages (from GitPython>=1.0.0->wandb<0.11.0,>=0.10.0->allennlp==2.5.0) (4.0.7)\n",
      "Requirement already satisfied: smmap<5,>=3.0.1 in /home/jupyter/.local/lib/python3.7/site-packages (from gitdb<5,>=4.0.1->GitPython>=1.0.0->wandb<0.11.0,>=0.10.0->allennlp==2.5.0) (4.0.0)\n",
      "Requirement already satisfied: Send2Trash>=1.5.0 in /home/jupyter/.local/lib/python3.7/site-packages (from notebook->jupyter>=1.0->checklist==0.0.11->allennlp==2.5.0) (1.8.0)\n",
      "Requirement already satisfied: prometheus-client in /home/jupyter/.local/lib/python3.7/site-packages (from notebook->jupyter>=1.0->checklist==0.0.11->allennlp==2.5.0) (0.11.0)\n",
      "Requirement already satisfied: terminado>=0.8.3 in /home/jupyter/.local/lib/python3.7/site-packages (from notebook->jupyter>=1.0->checklist==0.0.11->allennlp==2.5.0) (0.12.1)\n",
      "Requirement already satisfied: argon2-cffi in /home/jupyter/.local/lib/python3.7/site-packages (from notebook->jupyter>=1.0->checklist==0.0.11->allennlp==2.5.0) (21.1.0)\n",
      "Requirement already satisfied: cffi>=1.0.0 in /home/jupyter/.local/lib/python3.7/site-packages (from argon2-cffi->notebook->jupyter>=1.0->checklist==0.0.11->allennlp==2.5.0) (1.14.6)\n",
      "Requirement already satisfied: pycparser in /home/jupyter/.local/lib/python3.7/site-packages (from cffi>=1.0.0->argon2-cffi->notebook->jupyter>=1.0->checklist==0.0.11->allennlp==2.5.0) (2.20)\n",
      "Requirement already satisfied: cached-property in /home/jupyter/.local/lib/python3.7/site-packages (from h5py->allennlp==2.5.0) (1.5.2)\n",
      "Requirement already satisfied: MarkupSafe>=2.0 in /home/jupyter/.local/lib/python3.7/site-packages (from jinja2->spacy<3.1,>=2.1.0->allennlp==2.5.0) (2.0.1)\n",
      "Requirement already satisfied: nbclient<0.6.0,>=0.5.0 in /home/jupyter/.local/lib/python3.7/site-packages (from nbconvert->jupyter>=1.0->checklist==0.0.11->allennlp==2.5.0) (0.5.4)\n",
      "Requirement already satisfied: testpath in /home/jupyter/.local/lib/python3.7/site-packages (from nbconvert->jupyter>=1.0->checklist==0.0.11->allennlp==2.5.0) (0.5.0)\n",
      "Requirement already satisfied: jupyterlab-pygments in /home/jupyter/.local/lib/python3.7/site-packages (from nbconvert->jupyter>=1.0->checklist==0.0.11->allennlp==2.5.0) (0.1.2)\n",
      "Requirement already satisfied: defusedxml in /home/jupyter/.local/lib/python3.7/site-packages (from nbconvert->jupyter>=1.0->checklist==0.0.11->allennlp==2.5.0) (0.7.1)\n",
      "Requirement already satisfied: mistune<2,>=0.8.1 in /home/jupyter/.local/lib/python3.7/site-packages (from nbconvert->jupyter>=1.0->checklist==0.0.11->allennlp==2.5.0) (0.8.4)\n",
      "Requirement already satisfied: bleach in /home/jupyter/.local/lib/python3.7/site-packages (from nbconvert->jupyter>=1.0->checklist==0.0.11->allennlp==2.5.0) (4.1.0)\n",
      "Requirement already satisfied: pandocfilters>=1.4.1 in /home/jupyter/.local/lib/python3.7/site-packages (from nbconvert->jupyter>=1.0->checklist==0.0.11->allennlp==2.5.0) (1.5.0)\n",
      "Requirement already satisfied: webencodings in /home/jupyter/.local/lib/python3.7/site-packages (from bleach->nbconvert->jupyter>=1.0->checklist==0.0.11->allennlp==2.5.0) (0.5.1)\n",
      "Requirement already satisfied: joblib in /home/jupyter/.local/lib/python3.7/site-packages (from nltk->allennlp==2.5.0) (1.0.1)\n",
      "Requirement already satisfied: pdfminer.six in /home/jupyter/.local/lib/python3.7/site-packages (from patternfork-nosql->checklist==0.0.11->allennlp==2.5.0) (20201018)\n",
      "Requirement already satisfied: beautifulsoup4 in /home/jupyter/.local/lib/python3.7/site-packages (from patternfork-nosql->checklist==0.0.11->allennlp==2.5.0) (4.10.0)\n",
      "Requirement already satisfied: backports.csv in /home/jupyter/.local/lib/python3.7/site-packages (from patternfork-nosql->checklist==0.0.11->allennlp==2.5.0) (1.0.7)\n",
      "Requirement already satisfied: lxml in /home/jupyter/.local/lib/python3.7/site-packages (from patternfork-nosql->checklist==0.0.11->allennlp==2.5.0) (4.6.3)\n",
      "Requirement already satisfied: python-docx in /home/jupyter/.local/lib/python3.7/site-packages (from patternfork-nosql->checklist==0.0.11->allennlp==2.5.0) (0.8.11)\n",
      "Requirement already satisfied: feedparser in /home/jupyter/.local/lib/python3.7/site-packages (from patternfork-nosql->checklist==0.0.11->allennlp==2.5.0) (6.0.8)\n",
      "Requirement already satisfied: cherrypy in /home/jupyter/.local/lib/python3.7/site-packages (from patternfork-nosql->checklist==0.0.11->allennlp==2.5.0) (18.6.1)\n",
      "Requirement already satisfied: future in /home/jupyter/.local/lib/python3.7/site-packages (from patternfork-nosql->checklist==0.0.11->allennlp==2.5.0) (0.18.2)\n",
      "Requirement already satisfied: soupsieve>1.2 in /home/jupyter/.local/lib/python3.7/site-packages (from beautifulsoup4->patternfork-nosql->checklist==0.0.11->allennlp==2.5.0) (2.2.1)\n",
      "Requirement already satisfied: zc.lockfile in /home/jupyter/.local/lib/python3.7/site-packages (from cherrypy->patternfork-nosql->checklist==0.0.11->allennlp==2.5.0) (2.0)\n",
      "Requirement already satisfied: portend>=2.1.1 in /home/jupyter/.local/lib/python3.7/site-packages (from cherrypy->patternfork-nosql->checklist==0.0.11->allennlp==2.5.0) (2.7.1)\n",
      "Requirement already satisfied: cheroot>=8.2.1 in /home/jupyter/.local/lib/python3.7/site-packages (from cherrypy->patternfork-nosql->checklist==0.0.11->allennlp==2.5.0) (8.5.2)\n",
      "Requirement already satisfied: jaraco.collections in /home/jupyter/.local/lib/python3.7/site-packages (from cherrypy->patternfork-nosql->checklist==0.0.11->allennlp==2.5.0) (3.4.0)\n",
      "Requirement already satisfied: jaraco.functools in /home/jupyter/.local/lib/python3.7/site-packages (from cheroot>=8.2.1->cherrypy->patternfork-nosql->checklist==0.0.11->allennlp==2.5.0) (3.3.0)\n",
      "Requirement already satisfied: tempora>=1.8 in /home/jupyter/.local/lib/python3.7/site-packages (from portend>=2.1.1->cherrypy->patternfork-nosql->checklist==0.0.11->allennlp==2.5.0) (4.1.1)\n",
      "Requirement already satisfied: sgmllib3k in /home/jupyter/.local/lib/python3.7/site-packages (from feedparser->patternfork-nosql->checklist==0.0.11->allennlp==2.5.0) (1.0.0)\n",
      "Requirement already satisfied: jaraco.text in /home/jupyter/.local/lib/python3.7/site-packages (from jaraco.collections->cherrypy->patternfork-nosql->checklist==0.0.11->allennlp==2.5.0) (3.5.1)\n",
      "Requirement already satisfied: jaraco.classes in /home/jupyter/.local/lib/python3.7/site-packages (from jaraco.collections->cherrypy->patternfork-nosql->checklist==0.0.11->allennlp==2.5.0) (3.2.1)\n",
      "Requirement already satisfied: cryptography in /home/jupyter/.local/lib/python3.7/site-packages (from pdfminer.six->patternfork-nosql->checklist==0.0.11->allennlp==2.5.0) (35.0.0)\n",
      "Requirement already satisfied: chardet in /home/jupyter/.local/lib/python3.7/site-packages (from pdfminer.six->patternfork-nosql->checklist==0.0.11->allennlp==2.5.0) (4.0.0)\n",
      "Requirement already satisfied: sortedcontainers in /home/jupyter/.local/lib/python3.7/site-packages (from pdfminer.six->patternfork-nosql->checklist==0.0.11->allennlp==2.5.0) (2.4.0)\n",
      "Requirement already satisfied: py>=1.8.2 in /home/jupyter/.local/lib/python3.7/site-packages (from pytest->allennlp==2.5.0) (1.10.0)\n",
      "Requirement already satisfied: pluggy<2.0,>=0.12 in /home/jupyter/.local/lib/python3.7/site-packages (from pytest->allennlp==2.5.0) (1.0.0)\n",
      "Requirement already satisfied: iniconfig in /home/jupyter/.local/lib/python3.7/site-packages (from pytest->allennlp==2.5.0) (1.1.1)\n",
      "Requirement already satisfied: toml in /home/jupyter/.local/lib/python3.7/site-packages (from pytest->allennlp==2.5.0) (0.10.2)\n",
      "Requirement already satisfied: qtpy in /home/jupyter/.local/lib/python3.7/site-packages (from qtconsole->jupyter>=1.0->checklist==0.0.11->allennlp==2.5.0) (1.11.2)\n",
      "Requirement already satisfied: threadpoolctl>=2.0.0 in /home/jupyter/.local/lib/python3.7/site-packages (from scikit-learn->allennlp==2.5.0) (2.2.0)\n"
     ]
    }
   ],
   "source": [
    "!pip install allennlp==2.5.0"
   ]
  },
  {
   "cell_type": "code",
   "execution_count": 21,
   "metadata": {},
   "outputs": [
    {
     "name": "stdout",
     "output_type": "stream",
     "text": [
      "/bin/bash: allennlp: command not found\n"
     ]
    }
   ],
   "source": [
    "!allennlp"
   ]
  },
  {
   "cell_type": "code",
   "execution_count": null,
   "metadata": {},
   "outputs": [],
   "source": []
  }
 ],
 "metadata": {
  "environment": {
   "name": "managed-notebooks.m80",
   "type": "gcloud",
   "uri": "gcr.io/deeplearning-platform-release/managed-notebooks:m80"
  },
  "kernelspec": {
   "display_name": "Pytorch (Local)",
   "language": "python",
   "name": "local-pytorch"
  },
  "language_info": {
   "codemirror_mode": {
    "name": "ipython",
    "version": 3
   },
   "file_extension": ".py",
   "mimetype": "text/x-python",
   "name": "python",
   "nbconvert_exporter": "python",
   "pygments_lexer": "ipython3",
   "version": "3.7.10"
  }
 },
 "nbformat": 4,
 "nbformat_minor": 4
}
